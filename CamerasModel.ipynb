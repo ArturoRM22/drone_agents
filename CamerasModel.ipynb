{
  "nbformat": 4,
  "nbformat_minor": 0,
  "metadata": {
    "colab": {
      "provenance": [],
      "collapsed_sections": [
        "zKf5zzB7RHdZ",
        "Uq5NZ-redmTY",
        "XspdfewavwP9",
        "PE5EYiOW2Rt8",
        "NhlTMfGJUKtL"
      ]
    },
    "kernelspec": {
      "name": "python3",
      "display_name": "Python 3"
    },
    "language_info": {
      "name": "python"
    }
  },
  "cells": [
    {
      "cell_type": "markdown",
      "source": [
        "# Installs"
      ],
      "metadata": {
        "id": "zKf5zzB7RHdZ"
      }
    },
    {
      "cell_type": "code",
      "source": [
        "#Instalador de las librerias necesarias\n",
        "#\n",
        "#!pip install owlready2 agentpy seaborn numpy\n",
        "#"
      ],
      "metadata": {
        "id": "zlX8iwXSRGv4"
      },
      "execution_count": null,
      "outputs": []
    },
    {
      "cell_type": "code",
      "source": [
        "# Model design\n",
        "from owlready2 import *\n",
        "import agentpy as ap\n",
        "import numpy as np\n",
        "\n",
        "# Visualization\n",
        "import seaborn as sns\n",
        "\n",
        "#Pathfinding\n",
        "import math\n",
        "import heapq\n",
        "\n",
        "#Misc\n",
        "from matplotlib import pyplot as plt\n",
        "import IPython\n",
        "import random"
      ],
      "metadata": {
        "id": "VXQ7EWE4uTNG"
      },
      "execution_count": null,
      "outputs": []
    },
    {
      "cell_type": "markdown",
      "source": [
        "#Assistance Functions (Pathfinding, Grid Sizes, Etc.)"
      ],
      "metadata": {
        "id": "Uq5NZ-redmTY"
      }
    },
    {
      "cell_type": "code",
      "source": [
        "def heuristic(a,b):\n",
        "  #Distancia de Manhattan, resta el valor absoluto de la XY axtual con la XY destino\n",
        "  # a[0] = x inicial\n",
        "  # b[0] = x final\n",
        "  # a[1] = y inicial\n",
        "  # b[1] = y final\n",
        "  return abs(a[0] - b[0]) + abs(a[1] - b[1])\n",
        "\n",
        "def get_neighbors(grid,node):\n",
        "  neighbors = []\n",
        "\n",
        "  x,y = node\n",
        "\n",
        "  if x > 0:\n",
        "    neighbors.append((x-1,y))\n",
        "\n",
        "  if x < grid.shape[1] - 1:\n",
        "    neighbors.append((x+1,y))\n",
        "\n",
        "  if y > 0:\n",
        "    neighbors.append((x,y-1))\n",
        "\n",
        "  if y < grid.shape[0] -1:\n",
        "    neighbors.append((x,y+1))\n",
        "\n",
        "  return neighbors"
      ],
      "metadata": {
        "id": "MThwa_pydoX4"
      },
      "execution_count": null,
      "outputs": []
    },
    {
      "cell_type": "markdown",
      "source": [
        "# Ontology"
      ],
      "metadata": {
        "id": "2ny_7t7ySmzX"
      }
    },
    {
      "cell_type": "markdown",
      "source": [
        "Correr la ontologia **SOLO UNA VEZ** ,si da problemas usar el comando de borrar y volver a crearla"
      ],
      "metadata": {
        "id": "cvyvzx1QA7Qt"
      }
    },
    {
      "cell_type": "code",
      "source": [
        "\"\"\"\n",
        "#Creamos la ontologia\n",
        "onto = get_ontology(\"file://ontologia.owl\")\n",
        "\n",
        "\n",
        "with onto:\n",
        "  class Entity(Thing):\n",
        "    pass\n",
        "\n",
        "  class Camera(Entity):\n",
        "    pass\n",
        "\n",
        "  class Drone(Entity):\n",
        "    pass\n",
        "\n",
        "  class Intruder(Entity):\n",
        "    pass\n",
        "\n",
        "  class Box(Entity):\n",
        "    pass\n",
        "\n",
        "  class Place(Thing):\n",
        "    pass\n",
        "\n",
        "  class is_in_place(ObjectProperty):\n",
        "      domain = [Entity]\n",
        "      range = [Place]\n",
        "\n",
        "  class at_position(DataProperty,FunctionalProperty):\n",
        "        domain = [Place]\n",
        "        range = [str]\n",
        "\n",
        "  class is_following_intruder(ObjectProperty):\n",
        "    domain = [Drone]\n",
        "    range = [Intruder]\n",
        "\n",
        "  class is_called_by_camera(ObjectProperty):\n",
        "    domain = [Drone]\n",
        "    range = [Camera]\n",
        "\"\"\""
      ],
      "metadata": {
        "id": "oYfS-XdpSo_w",
        "colab": {
          "base_uri": "https://localhost:8080/",
          "height": 87
        },
        "outputId": "51a58ad6-5841-465c-a020-2de2612570d5",
        "collapsed": true
      },
      "execution_count": null,
      "outputs": [
        {
          "output_type": "execute_result",
          "data": {
            "text/plain": [
              "'\\n#Creamos la ontologia\\nonto = get_ontology(\"file://ontologia.owl\")\\n\\n\\nwith onto:\\n  class Entity(Thing):\\n    pass\\n\\n  class Camera(Entity):\\n    pass\\n\\n  class Drone(Entity):\\n    pass\\n\\n  class Intruder(Entity):\\n    pass\\n\\n  class Box(Entity):\\n    pass\\n\\n  class Place(Thing):\\n    pass\\n\\n  class is_in_place(ObjectProperty):\\n      domain = [Entity]\\n      range = [Place]\\n\\n  class at_position(DataProperty,FunctionalProperty):\\n        domain = [Place]\\n        range = [str]\\n\\n  class is_following_intruder(ObjectProperty):\\n    domain = [Drone]\\n    range = [Intruder]\\n\\n  class is_called_by_camera(ObjectProperty):\\n    domain = [Drone]\\n    range = [Camera]\\n'"
            ],
            "application/vnd.google.colaboratory.intrinsic+json": {
              "type": "string"
            }
          },
          "metadata": {},
          "execution_count": 58
        }
      ]
    },
    {
      "cell_type": "code",
      "source": [
        "#Delete just in case\n",
        "#onto.destroy(update_relation = True, update_is_a = True)"
      ],
      "metadata": {
        "id": "4p3WC-RPQ3NK"
      },
      "execution_count": null,
      "outputs": []
    },
    {
      "cell_type": "markdown",
      "source": [
        "#Camera Agent"
      ],
      "metadata": {
        "id": "XspdfewavwP9"
      }
    },
    {
      "cell_type": "code",
      "source": [
        "class CameraAgent(ap.Agent):\n",
        "\n",
        "  \"\"\"\n",
        "    <-- Funciones de Ejecucion -->\n",
        "  \"\"\"\n",
        "\n",
        "  \"\"\"\n",
        "    Funcion de Setup\n",
        "  \"\"\"\n",
        "\n",
        "  def setup(self):\n",
        "    self.agentType = 0\n",
        "    self.neighbors = []\n",
        "\n",
        "    self.actions = {\n",
        "\n",
        "    }\n",
        "\n",
        "    self.rules = {\n",
        "\n",
        "    }\n",
        "\n",
        "\n",
        "  \"\"\"\n",
        "    Funcion de See\n",
        "  \"\"\"\n",
        "  def see(self, e):\n",
        "    self.neighbors = e.neighbors(self,2)\n",
        "\n",
        "  \"\"\"\n",
        "    Funcion de Next\n",
        "  \"\"\"\n",
        "  def next(self):\n",
        "    for act in self.actions:\n",
        "      for rule in self.rules:\n",
        "        if rule(act):\n",
        "          act()\n",
        "\n",
        "  \"\"\"\n",
        "    Funcion de Paso\n",
        "  \"\"\"\n",
        "\n",
        "  def step(self):\n",
        "    self.see(self.model.grid)\n",
        "    self.next()\n",
        "\n",
        "    for neighbor in self.neighbors:\n",
        "      print(self.model.grid.positions[neighbor])\n",
        "\n",
        "  \"\"\"\n",
        "    Funcion de Update\n",
        "  \"\"\"\n",
        "\n",
        "  def update(self):\n",
        "    pass\n",
        "\n",
        "  \"\"\"\n",
        "    Funcion de End\n",
        "  \"\"\"\n",
        "\n",
        "  def end(self):\n",
        "    pass\n",
        "\n",
        "  \"\"\"\n",
        "    <-- Acciones -->\n",
        "  \"\"\"\n",
        "\n",
        "  \"\"\"\n",
        "    <-- Reglas -->\n",
        "  \"\"\""
      ],
      "metadata": {
        "id": "b01GX1h9vywd"
      },
      "execution_count": null,
      "outputs": []
    },
    {
      "cell_type": "markdown",
      "source": [
        "#Drone Agent"
      ],
      "metadata": {
        "id": "ySjswCeS2FMt"
      }
    },
    {
      "cell_type": "code",
      "source": [
        "class DroneAgent(ap.Agent):\n",
        "\n",
        "  \"\"\"\n",
        "    <-- Funciones de Ejecucion -->\n",
        "  \"\"\"\n",
        "\n",
        "  \"\"\"\n",
        "    Funcion de Setup\n",
        "  \"\"\"\n",
        "\n",
        "  def setup(self):\n",
        "    self.agentType = 1\n",
        "\n",
        "    #Variables de patrulla\n",
        "    self.path = []\n",
        "    self.path_counter = 0\n",
        "\n",
        "    grid_length_min = round(self.model.p.M * 0.3 - 1)\n",
        "    grid_length_max = round(self.model.p.M - (grid_length_min + 1))\n",
        "\n",
        "    grid_width_min = round(self.model.p.N * 0.3 - 1)\n",
        "    grid_width_max = round(self.model.p.N - (grid_width_min + 1 ))\n",
        "\n",
        "\n",
        "    #self.path = [(grid_length_min,grid_width_min), (grid_length_max,grid_length_min), (grid_length_max,grid_width_max),(grid_length_min, grid_width_max) ]\n",
        "\n",
        "    \"\"\"\n",
        "    for i in range(grid_length_min,grid_length_max):\n",
        "      for j in range(grid_width_min,grid_width_max):\n",
        "        self.path.append((i,j))\n",
        "        if reverse:\n",
        "          self.path_side.reverse()\n",
        "          reverse = !reverse\n",
        "        self.path.append(self.path_side)\n",
        "    \"\"\"\n",
        "\n",
        "    for i in range(grid_length_min,grid_length_max):\n",
        "      self.path.append((i,grid_width_min))\n",
        "\n",
        "    for i in range(grid_width_min,grid_width_max):\n",
        "      self.path.append((grid_length_max,i))\n",
        "\n",
        "    for i in range(grid_length_max,grid_length_min,-1):\n",
        "      self.path.append((i,grid_width_max))\n",
        "\n",
        "    for i in range(grid_width_max,grid_width_min,-1):\n",
        "      self.path.append((grid_length_min,i))\n",
        "\n",
        "    self.actions = (\n",
        "      self.patrol,\n",
        "    )\n",
        "\n",
        "    self.rules = (\n",
        "      self.patrol_rule,\n",
        "    )\n",
        "\n",
        "\n",
        "  \"\"\"\n",
        "    Funcion de See\n",
        "  \"\"\"\n",
        "  def see(self, e):\n",
        "    pass\n",
        "\n",
        "  \"\"\"\n",
        "    Funcion de Next\n",
        "  \"\"\"\n",
        "  def next(self):\n",
        "    for act in self.actions:\n",
        "      for rule in self.rules:\n",
        "        if rule(act):\n",
        "          act()\n",
        "\n",
        "  \"\"\"\n",
        "    Funcion de Paso\n",
        "  \"\"\"\n",
        "\n",
        "  def step(self):\n",
        "    self.see(self.model.grid)\n",
        "    self.next()\n",
        "\n",
        "  \"\"\"\n",
        "    Funcion de Update\n",
        "  \"\"\"\n",
        "\n",
        "  def update(self):\n",
        "    pass\n",
        "\n",
        "  \"\"\"\n",
        "    Funcion de End\n",
        "  \"\"\"\n",
        "\n",
        "  def end(self):\n",
        "    pass\n",
        "\n",
        "  \"\"\"\n",
        "    <-- Acciones -->\n",
        "  \"\"\"\n",
        "  def patrol(self):\n",
        "    print(\"PATRULLAMOS\")\n",
        "    if(self.path_counter >= len(self.path)):\n",
        "      self.path_counter = 0\n",
        "    self.model.grid.move_to(self,self.path[self.path_counter])\n",
        "    self.path_counter += 1\n",
        "\n",
        "\n",
        "  \"\"\"\n",
        "    <-- Reglas -->\n",
        "  \"\"\"\n",
        "  def patrol_rule(self, act):\n",
        "    validator = [False]\n",
        "\n",
        "    if act == self.patrol:\n",
        "      validator[0] = True\n",
        "\n",
        "    return sum(validator) == 1"
      ],
      "metadata": {
        "id": "MELZBHtL2Ip9"
      },
      "execution_count": null,
      "outputs": []
    },
    {
      "cell_type": "markdown",
      "source": [
        "#Intruder Agent"
      ],
      "metadata": {
        "id": "PE5EYiOW2Rt8"
      }
    },
    {
      "cell_type": "code",
      "source": [
        "class IntruderAgent(ap.Agent):\n",
        "\n",
        "  \"\"\"\n",
        "    <-- Funciones de Ejecucion -->\n",
        "  \"\"\"\n",
        "\n",
        "  \"\"\"\n",
        "    Funcion de Setup\n",
        "  \"\"\"\n",
        "\n",
        "  def setup(self):\n",
        "    self.agentType = 2\n",
        "\n",
        "    self.actions = {\n",
        "\n",
        "    }\n",
        "\n",
        "    self.rules = {\n",
        "\n",
        "    }\n",
        "\n",
        "\n",
        "  \"\"\"\n",
        "    Funcion de See\n",
        "  \"\"\"\n",
        "  def see(self, e):\n",
        "    pass\n",
        "\n",
        "  \"\"\"\n",
        "    Funcion de Next\n",
        "  \"\"\"\n",
        "  def next(self):\n",
        "    for act in self.actions:\n",
        "      for rule in self.rules:\n",
        "        if rule(act):\n",
        "          act()\n",
        "\n",
        "  \"\"\"\n",
        "    Funcion de Paso\n",
        "  \"\"\"\n",
        "\n",
        "  def step(self):\n",
        "    self.see(self.model.grid)\n",
        "    self.next()\n",
        "\n",
        "  \"\"\"\n",
        "    Funcion de Update\n",
        "  \"\"\"\n",
        "\n",
        "  def update(self):\n",
        "    pass\n",
        "\n",
        "  \"\"\"\n",
        "    Funcion de End\n",
        "  \"\"\"\n",
        "\n",
        "  def end(self):\n",
        "    pass\n",
        "\n",
        "  \"\"\"\n",
        "    <-- Acciones -->\n",
        "  \"\"\"\n",
        "\n",
        "  \"\"\"\n",
        "    <-- Reglas -->\n",
        "  \"\"\""
      ],
      "metadata": {
        "id": "6wxK8bbh2WJc"
      },
      "execution_count": null,
      "outputs": []
    },
    {
      "cell_type": "markdown",
      "source": [
        "#DroneModel"
      ],
      "metadata": {
        "id": "1-OcEpdj2b4U"
      }
    },
    {
      "cell_type": "code",
      "source": [
        "class DroneModel(ap.Model):\n",
        "\n",
        "  \"\"\"\n",
        "    <-- Funcion de Inicializacion -->\n",
        "  \"\"\"\n",
        "  def setup(self):\n",
        "    self.steps = 0\n",
        "    self.cameras = ap.AgentList(self,self.p.cameras,CameraAgent)\n",
        "    self.drones = ap.AgentList(self,self.p.drones,DroneAgent)\n",
        "    self.intruders = ap.AgentList(self,self.p.intruders,IntruderAgent)\n",
        "\n",
        "    #Instancia Grid\n",
        "    self.grid = ap.Grid(self, (self.p.M, self.p.N), track_empty=True)\n",
        "    self.reservations = ap.Grid(self, (self.p.M, self.p.N), track_empty=True)\n",
        "\n",
        "    #Asignacion de Agentes\n",
        "    self.grid.add_agents(self.drones, [(round(self.model.p.M - (self.model.p.M * 0.7)) - 1,  round(self.model.p.N - (self.model.p.N * 0.7))-1)], empty=True)\n",
        "\n",
        "    \"\"\"\n",
        "    for i in range(self.p.cameras):\n",
        "      for j in range(0,self.p.M,):\n",
        "        for k in range(0,self.p.N):\n",
        "          self.grid.add_agents(self.cameras, [(j,k)], empty=True)\n",
        "    \"\"\"\n",
        "\n",
        "    self.grid.add_agents(self.cameras, random=True, empty=True)\n",
        "    self.grid.add_agents(self.intruders, random=True, empty=True)\n",
        "\n",
        "\n",
        "  def step(self):\n",
        "    print(f\"Step: {self.steps}\")\n",
        "    self.cameras.step()\n",
        "    self.drones.step()\n",
        "    self.intruders.step()\n",
        "\n",
        "    #Informacion de la sumulacion\n",
        "    self.steps += 1\n",
        "\n",
        "  def next(self):\n",
        "    pass\n",
        "\n",
        "  def update(self):\n",
        "    pass\n",
        "\n",
        "  def end(self):\n",
        "    pass"
      ],
      "metadata": {
        "id": "SA1eeeygSzGb"
      },
      "execution_count": null,
      "outputs": []
    },
    {
      "cell_type": "markdown",
      "source": [
        "#Paremeters"
      ],
      "metadata": {
        "id": "25kbiZmYS-Oq"
      }
    },
    {
      "cell_type": "code",
      "source": [
        "parameters = {\n",
        "    'M': 10,\n",
        "    'N': 10,\n",
        "    'cameras': 5,\n",
        "    'drones': 1,\n",
        "    'intruders': 1,\n",
        "    'steps': 10,\n",
        "}"
      ],
      "metadata": {
        "id": "6gE9T_MHS9CT"
      },
      "execution_count": null,
      "outputs": []
    },
    {
      "cell_type": "markdown",
      "source": [
        "#Animation"
      ],
      "metadata": {
        "id": "NhlTMfGJUKtL"
      }
    },
    {
      "cell_type": "code",
      "source": [
        "def animation_plot(model, ax):\n",
        "    \"\"\"\n",
        "    Función de animación\n",
        "    @param model: modelo\n",
        "    @param ax: axes (matplotlib)\n",
        "    \"\"\"\n",
        "    # Definición de atributo para tipo de agente\n",
        "    agent_type_grid = model.grid.attr_grid('agentType')\n",
        "    # Definición de gráfico con colores (de acuerdo al tipo de agente)\n",
        "    ap.gridplot(agent_type_grid, cmap='Accent', ax=ax)\n",
        "    # Definición de título del gráfico\n",
        "    ax.set_title(f\"Drone Model \\n Time-step: {model.t}, \"\n",
        "                 f\"Blanmk: {0}\")"
      ],
      "metadata": {
        "id": "Q2mv5kl9UNX7"
      },
      "execution_count": null,
      "outputs": []
    },
    {
      "cell_type": "markdown",
      "source": [
        "#Simulation"
      ],
      "metadata": {
        "id": "dkp9qVgAUU_K"
      }
    },
    {
      "cell_type": "code",
      "source": [
        "#SIMULATION:\n",
        "\n",
        "#Create figure (from matplotlib)\n",
        "fig, ax = plt.subplots()\n",
        "\n",
        "#Create model\n",
        "model = DroneModel(parameters)\n",
        "\n",
        "\n",
        "#Run with animation\n",
        "#If you want to run it without animation then use instead:\n",
        "#model.run()\n",
        "animation = ap.animate(model, fig, ax, animation_plot)\n",
        "#This step may take a while before you can see anything\n",
        "\n",
        "#Print the final animation\n",
        "IPython.display.HTML(animation.to_jshtml())"
      ],
      "metadata": {
        "colab": {
          "base_uri": "https://localhost:8080/",
          "height": 774
        },
        "id": "MCCI-SQpUWWj",
        "outputId": "33d8eb3c-b8c4-448c-e92c-423ec534303a"
      },
      "execution_count": null,
      "outputs": [
        {
          "output_type": "error",
          "ename": "AgentpyError",
          "evalue": "Cannot add more agents than empty positions.",
          "traceback": [
            "\u001b[0;31m---------------------------------------------------------------------------\u001b[0m",
            "\u001b[0;31mAgentpyError\u001b[0m                              Traceback (most recent call last)",
            "\u001b[0;32m<ipython-input-66-c6fd1ddbb928>\u001b[0m in \u001b[0;36m<cell line: 13>\u001b[0;34m()\u001b[0m\n\u001b[1;32m     11\u001b[0m \u001b[0;31m#If you want to run it without animation then use instead:\u001b[0m\u001b[0;34m\u001b[0m\u001b[0;34m\u001b[0m\u001b[0m\n\u001b[1;32m     12\u001b[0m \u001b[0;31m#model.run()\u001b[0m\u001b[0;34m\u001b[0m\u001b[0;34m\u001b[0m\u001b[0m\n\u001b[0;32m---> 13\u001b[0;31m \u001b[0manimation\u001b[0m \u001b[0;34m=\u001b[0m \u001b[0map\u001b[0m\u001b[0;34m.\u001b[0m\u001b[0manimate\u001b[0m\u001b[0;34m(\u001b[0m\u001b[0mmodel\u001b[0m\u001b[0;34m,\u001b[0m \u001b[0mfig\u001b[0m\u001b[0;34m,\u001b[0m \u001b[0max\u001b[0m\u001b[0;34m,\u001b[0m \u001b[0manimation_plot\u001b[0m\u001b[0;34m)\u001b[0m\u001b[0;34m\u001b[0m\u001b[0;34m\u001b[0m\u001b[0m\n\u001b[0m\u001b[1;32m     14\u001b[0m \u001b[0;31m#This step may take a while before you can see anything\u001b[0m\u001b[0;34m\u001b[0m\u001b[0;34m\u001b[0m\u001b[0m\n\u001b[1;32m     15\u001b[0m \u001b[0;34m\u001b[0m\u001b[0m\n",
            "\u001b[0;32m/usr/local/lib/python3.10/dist-packages/agentpy/visualization.py\u001b[0m in \u001b[0;36manimate\u001b[0;34m(model, fig, axs, plot, steps, seed, skip, fargs, **kwargs)\u001b[0m\n\u001b[1;32m     57\u001b[0m     \"\"\"\n\u001b[1;32m     58\u001b[0m \u001b[0;34m\u001b[0m\u001b[0m\n\u001b[0;32m---> 59\u001b[0;31m     \u001b[0mmodel\u001b[0m\u001b[0;34m.\u001b[0m\u001b[0msim_setup\u001b[0m\u001b[0;34m(\u001b[0m\u001b[0msteps\u001b[0m\u001b[0;34m,\u001b[0m \u001b[0mseed\u001b[0m\u001b[0;34m)\u001b[0m\u001b[0;34m\u001b[0m\u001b[0;34m\u001b[0m\u001b[0m\n\u001b[0m\u001b[1;32m     60\u001b[0m     \u001b[0mmodel\u001b[0m\u001b[0;34m.\u001b[0m\u001b[0mcreate_output\u001b[0m\u001b[0;34m(\u001b[0m\u001b[0;34m)\u001b[0m\u001b[0;34m\u001b[0m\u001b[0;34m\u001b[0m\u001b[0m\n\u001b[1;32m     61\u001b[0m     \u001b[0mpre_steps\u001b[0m \u001b[0;34m=\u001b[0m \u001b[0;36m0\u001b[0m\u001b[0;34m\u001b[0m\u001b[0;34m\u001b[0m\u001b[0m\n",
            "\u001b[0;32m/usr/local/lib/python3.10/dist-packages/agentpy/model.py\u001b[0m in \u001b[0;36msim_setup\u001b[0;34m(self, steps, seed)\u001b[0m\n\u001b[1;32m    314\u001b[0m \u001b[0;34m\u001b[0m\u001b[0m\n\u001b[1;32m    315\u001b[0m         \u001b[0;31m# Execute setup and first update\u001b[0m\u001b[0;34m\u001b[0m\u001b[0;34m\u001b[0m\u001b[0m\n\u001b[0;32m--> 316\u001b[0;31m         \u001b[0mself\u001b[0m\u001b[0;34m.\u001b[0m\u001b[0msetup\u001b[0m\u001b[0;34m(\u001b[0m\u001b[0;34m**\u001b[0m\u001b[0mself\u001b[0m\u001b[0;34m.\u001b[0m\u001b[0m_setup_kwargs\u001b[0m\u001b[0;34m)\u001b[0m\u001b[0;34m\u001b[0m\u001b[0;34m\u001b[0m\u001b[0m\n\u001b[0m\u001b[1;32m    317\u001b[0m         \u001b[0mself\u001b[0m\u001b[0;34m.\u001b[0m\u001b[0mupdate\u001b[0m\u001b[0;34m(\u001b[0m\u001b[0;34m)\u001b[0m\u001b[0;34m\u001b[0m\u001b[0;34m\u001b[0m\u001b[0m\n\u001b[1;32m    318\u001b[0m \u001b[0;34m\u001b[0m\u001b[0m\n",
            "\u001b[0;32m<ipython-input-63-7fcbae909fa5>\u001b[0m in \u001b[0;36msetup\u001b[0;34m(self)\u001b[0m\n\u001b[1;32m     20\u001b[0m       \u001b[0;32mfor\u001b[0m \u001b[0mj\u001b[0m \u001b[0;32min\u001b[0m \u001b[0mrange\u001b[0m\u001b[0;34m(\u001b[0m\u001b[0mself\u001b[0m\u001b[0;34m.\u001b[0m\u001b[0mp\u001b[0m\u001b[0;34m.\u001b[0m\u001b[0mM\u001b[0m\u001b[0;34m)\u001b[0m\u001b[0;34m:\u001b[0m\u001b[0;34m\u001b[0m\u001b[0;34m\u001b[0m\u001b[0m\n\u001b[1;32m     21\u001b[0m         \u001b[0;32mfor\u001b[0m \u001b[0mk\u001b[0m \u001b[0;32min\u001b[0m \u001b[0mrange\u001b[0m\u001b[0;34m(\u001b[0m\u001b[0mself\u001b[0m\u001b[0;34m.\u001b[0m\u001b[0mp\u001b[0m\u001b[0;34m.\u001b[0m\u001b[0mN\u001b[0m\u001b[0;34m)\u001b[0m\u001b[0;34m:\u001b[0m\u001b[0;34m\u001b[0m\u001b[0;34m\u001b[0m\u001b[0m\n\u001b[0;32m---> 22\u001b[0;31m           \u001b[0mself\u001b[0m\u001b[0;34m.\u001b[0m\u001b[0mgrid\u001b[0m\u001b[0;34m.\u001b[0m\u001b[0madd_agents\u001b[0m\u001b[0;34m(\u001b[0m\u001b[0mself\u001b[0m\u001b[0;34m.\u001b[0m\u001b[0mcameras\u001b[0m\u001b[0;34m,\u001b[0m \u001b[0;34m[\u001b[0m\u001b[0;34m(\u001b[0m\u001b[0mj\u001b[0m\u001b[0;34m,\u001b[0m\u001b[0mk\u001b[0m\u001b[0;34m)\u001b[0m\u001b[0;34m]\u001b[0m\u001b[0;34m,\u001b[0m \u001b[0mempty\u001b[0m\u001b[0;34m=\u001b[0m\u001b[0;32mTrue\u001b[0m\u001b[0;34m)\u001b[0m\u001b[0;34m\u001b[0m\u001b[0;34m\u001b[0m\u001b[0m\n\u001b[0m\u001b[1;32m     23\u001b[0m \u001b[0;34m\u001b[0m\u001b[0m\n\u001b[1;32m     24\u001b[0m     \u001b[0;31m#self.grid.add_agents(self.cameras, random=True, empty=True)\u001b[0m\u001b[0;34m\u001b[0m\u001b[0;34m\u001b[0m\u001b[0m\n",
            "\u001b[0;32m/usr/local/lib/python3.10/dist-packages/agentpy/grid.py\u001b[0m in \u001b[0;36madd_agents\u001b[0;34m(self, agents, positions, random, empty)\u001b[0m\n\u001b[1;32m    228\u001b[0m \u001b[0;34m\u001b[0m\u001b[0m\n\u001b[1;32m    229\u001b[0m         \u001b[0;32mif\u001b[0m \u001b[0mempty\u001b[0m \u001b[0;32mand\u001b[0m \u001b[0mlen\u001b[0m\u001b[0;34m(\u001b[0m\u001b[0mpositions\u001b[0m\u001b[0;34m)\u001b[0m \u001b[0;34m<\u001b[0m \u001b[0mlen\u001b[0m\u001b[0;34m(\u001b[0m\u001b[0magents\u001b[0m\u001b[0;34m)\u001b[0m\u001b[0;34m:\u001b[0m\u001b[0;34m\u001b[0m\u001b[0;34m\u001b[0m\u001b[0m\n\u001b[0;32m--> 230\u001b[0;31m             \u001b[0;32mraise\u001b[0m \u001b[0mAgentpyError\u001b[0m\u001b[0;34m(\u001b[0m\u001b[0;34m\"Cannot add more agents than empty positions.\"\u001b[0m\u001b[0;34m)\u001b[0m\u001b[0;34m\u001b[0m\u001b[0;34m\u001b[0m\u001b[0m\n\u001b[0m\u001b[1;32m    231\u001b[0m \u001b[0;34m\u001b[0m\u001b[0m\n\u001b[1;32m    232\u001b[0m         \u001b[0;32mif\u001b[0m \u001b[0mself\u001b[0m\u001b[0;34m.\u001b[0m\u001b[0m_track_empty\u001b[0m\u001b[0;34m:\u001b[0m\u001b[0;34m\u001b[0m\u001b[0;34m\u001b[0m\u001b[0m\n",
            "\u001b[0;31mAgentpyError\u001b[0m: Cannot add more agents than empty positions."
          ]
        },
        {
          "output_type": "display_data",
          "data": {
            "text/plain": [
              "<Figure size 640x480 with 1 Axes>"
            ],
            "image/png": "[encoded data removed]"
          },
          "metadata": {}
        }
      ]
    }
  ]
}